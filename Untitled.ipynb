{
 "cells": [
  {
   "cell_type": "code",
   "execution_count": 1,
   "metadata": {},
   "outputs": [],
   "source": [
    "import numpy as np\n",
    "import pandas as pd"
   ]
  },
  {
   "cell_type": "code",
   "execution_count": 2,
   "metadata": {},
   "outputs": [
    {
     "name": "stderr",
     "output_type": "stream",
     "text": [
      "/mnt/body/Projects/Competitions/venv/lib/python3.7/site-packages/IPython/core/interactiveshell.py:3020: DtypeWarning: Columns (5) have mixed types. Specify dtype option on import or set low_memory=False.\n",
      "  interactivity=interactivity, compiler=compiler, result=result)\n"
     ]
    }
   ],
   "source": [
    "train = pd.read_csv('GHEM_A1.csv', sep=\",\")\n",
    "test = pd.read_csv('GHEM_A2.csv', sep=\",\")"
   ]
  },
  {
   "cell_type": "code",
   "execution_count": 3,
   "metadata": {},
   "outputs": [
    {
     "data": {
      "text/html": [
       "<div>\n",
       "<style scoped>\n",
       "    .dataframe tbody tr th:only-of-type {\n",
       "        vertical-align: middle;\n",
       "    }\n",
       "\n",
       "    .dataframe tbody tr th {\n",
       "        vertical-align: top;\n",
       "    }\n",
       "\n",
       "    .dataframe thead th {\n",
       "        text-align: right;\n",
       "    }\n",
       "</style>\n",
       "<table border=\"1\" class=\"dataframe\">\n",
       "  <thead>\n",
       "    <tr style=\"text-align: right;\">\n",
       "      <th></th>\n",
       "      <th>date</th>\n",
       "      <th>Unnamed: 1</th>\n",
       "      <th>GHEM_A1.sensor</th>\n",
       "      <th>GHEM_A1.value</th>\n",
       "      <th>Unnamed: 4</th>\n",
       "      <th>Key</th>\n",
       "    </tr>\n",
       "  </thead>\n",
       "  <tbody>\n",
       "    <tr>\n",
       "      <th>0</th>\n",
       "      <td>9/17/2018 4:31:55.063000000 PM</td>\n",
       "      <td>NaN</td>\n",
       "      <td>AVT</td>\n",
       "      <td>4.201157e+02</td>\n",
       "      <td>NaN</td>\n",
       "      <td>AVT: Line Voltage</td>\n",
       "    </tr>\n",
       "    <tr>\n",
       "      <th>1</th>\n",
       "      <td>9/17/2018 4:31:55.064000000 PM</td>\n",
       "      <td>NaN</td>\n",
       "      <td>RSSI</td>\n",
       "      <td>2.300000e+01</td>\n",
       "      <td>NaN</td>\n",
       "      <td>FWE: Forward Active Energy</td>\n",
       "    </tr>\n",
       "    <tr>\n",
       "      <th>2</th>\n",
       "      <td>9/17/2018 4:32:26.808000000 PM</td>\n",
       "      <td>NaN</td>\n",
       "      <td>AVT</td>\n",
       "      <td>4.215178e+02</td>\n",
       "      <td>NaN</td>\n",
       "      <td>ACR: Average Current</td>\n",
       "    </tr>\n",
       "    <tr>\n",
       "      <th>3</th>\n",
       "      <td>9/17/2018 4:32:26.809000000 PM</td>\n",
       "      <td>NaN</td>\n",
       "      <td>RSSI</td>\n",
       "      <td>2.400000e+01</td>\n",
       "      <td>NaN</td>\n",
       "      <td>PWF: Power Factor</td>\n",
       "    </tr>\n",
       "    <tr>\n",
       "      <th>4</th>\n",
       "      <td>9/17/2018 4:32:55.943000000 PM</td>\n",
       "      <td>NaN</td>\n",
       "      <td>AVT</td>\n",
       "      <td>4.222725e+02</td>\n",
       "      <td>NaN</td>\n",
       "      <td>NaN</td>\n",
       "    </tr>\n",
       "    <tr>\n",
       "      <th>5</th>\n",
       "      <td>9/17/2018 4:32:55.944000000 PM</td>\n",
       "      <td>NaN</td>\n",
       "      <td>APR</td>\n",
       "      <td>7.588911e+04</td>\n",
       "      <td>NaN</td>\n",
       "      <td>NaN</td>\n",
       "    </tr>\n",
       "    <tr>\n",
       "      <th>6</th>\n",
       "      <td>9/17/2018 4:33:27.585000000 PM</td>\n",
       "      <td>NaN</td>\n",
       "      <td>PWF</td>\n",
       "      <td>9.294880e-01</td>\n",
       "      <td>NaN</td>\n",
       "      <td>NaN</td>\n",
       "    </tr>\n",
       "    <tr>\n",
       "      <th>7</th>\n",
       "      <td>9/17/2018 4:33:27.586000000 PM</td>\n",
       "      <td>NaN</td>\n",
       "      <td>FWE</td>\n",
       "      <td>3.650932e+09</td>\n",
       "      <td>NaN</td>\n",
       "      <td>NaN</td>\n",
       "    </tr>\n",
       "    <tr>\n",
       "      <th>8</th>\n",
       "      <td>9/17/2018 4:34:02.853000000 PM</td>\n",
       "      <td>NaN</td>\n",
       "      <td>APR</td>\n",
       "      <td>2.596921e+05</td>\n",
       "      <td>NaN</td>\n",
       "      <td>NaN</td>\n",
       "    </tr>\n",
       "    <tr>\n",
       "      <th>9</th>\n",
       "      <td>9/17/2018 4:34:02.854000000 PM</td>\n",
       "      <td>NaN</td>\n",
       "      <td>FWE</td>\n",
       "      <td>3.650934e+09</td>\n",
       "      <td>NaN</td>\n",
       "      <td>NaN</td>\n",
       "    </tr>\n",
       "  </tbody>\n",
       "</table>\n",
       "</div>"
      ],
      "text/plain": [
       "                             date  Unnamed: 1 GHEM_A1.sensor  GHEM_A1.value  \\\n",
       "0  9/17/2018 4:31:55.063000000 PM         NaN            AVT   4.201157e+02   \n",
       "1  9/17/2018 4:31:55.064000000 PM         NaN           RSSI   2.300000e+01   \n",
       "2  9/17/2018 4:32:26.808000000 PM         NaN            AVT   4.215178e+02   \n",
       "3  9/17/2018 4:32:26.809000000 PM         NaN           RSSI   2.400000e+01   \n",
       "4  9/17/2018 4:32:55.943000000 PM         NaN            AVT   4.222725e+02   \n",
       "5  9/17/2018 4:32:55.944000000 PM         NaN            APR   7.588911e+04   \n",
       "6  9/17/2018 4:33:27.585000000 PM         NaN            PWF   9.294880e-01   \n",
       "7  9/17/2018 4:33:27.586000000 PM         NaN            FWE   3.650932e+09   \n",
       "8  9/17/2018 4:34:02.853000000 PM         NaN            APR   2.596921e+05   \n",
       "9  9/17/2018 4:34:02.854000000 PM         NaN            FWE   3.650934e+09   \n",
       "\n",
       "   Unnamed: 4                         Key  \n",
       "0         NaN           AVT: Line Voltage  \n",
       "1         NaN  FWE: Forward Active Energy  \n",
       "2         NaN        ACR: Average Current  \n",
       "3         NaN           PWF: Power Factor  \n",
       "4         NaN                         NaN  \n",
       "5         NaN                         NaN  \n",
       "6         NaN                         NaN  \n",
       "7         NaN                         NaN  \n",
       "8         NaN                         NaN  \n",
       "9         NaN                         NaN  "
      ]
     },
     "execution_count": 3,
     "metadata": {},
     "output_type": "execute_result"
    }
   ],
   "source": [
    "train.head(10)"
   ]
  },
  {
   "cell_type": "code",
   "execution_count": 4,
   "metadata": {},
   "outputs": [
    {
     "data": {
      "text/html": [
       "<div>\n",
       "<style scoped>\n",
       "    .dataframe tbody tr th:only-of-type {\n",
       "        vertical-align: middle;\n",
       "    }\n",
       "\n",
       "    .dataframe tbody tr th {\n",
       "        vertical-align: top;\n",
       "    }\n",
       "\n",
       "    .dataframe thead th {\n",
       "        text-align: right;\n",
       "    }\n",
       "</style>\n",
       "<table border=\"1\" class=\"dataframe\">\n",
       "  <thead>\n",
       "    <tr style=\"text-align: right;\">\n",
       "      <th></th>\n",
       "      <th>date</th>\n",
       "      <th>Unnamed: 1</th>\n",
       "      <th>GHEM_A2.sensor</th>\n",
       "      <th>GHEM_A2.value</th>\n",
       "      <th>Unnamed: 4</th>\n",
       "      <th>Key</th>\n",
       "    </tr>\n",
       "  </thead>\n",
       "  <tbody>\n",
       "    <tr>\n",
       "      <th>0</th>\n",
       "      <td>9/17/2018 6:17:00.175000000 PM</td>\n",
       "      <td>NaN</td>\n",
       "      <td>PWF</td>\n",
       "      <td>9.903970e-01</td>\n",
       "      <td>NaN</td>\n",
       "      <td>AVT: Line Voltage</td>\n",
       "    </tr>\n",
       "    <tr>\n",
       "      <th>1</th>\n",
       "      <td>9/17/2018 6:17:16.783000000 PM</td>\n",
       "      <td>NaN</td>\n",
       "      <td>AVT</td>\n",
       "      <td>4.244318e+02</td>\n",
       "      <td>NaN</td>\n",
       "      <td>FWE: Forward Active Energy</td>\n",
       "    </tr>\n",
       "    <tr>\n",
       "      <th>2</th>\n",
       "      <td>9/17/2018 6:17:16.784000000 PM</td>\n",
       "      <td>NaN</td>\n",
       "      <td>RSSI</td>\n",
       "      <td>2.500000e+01</td>\n",
       "      <td>NaN</td>\n",
       "      <td>ACR: Average Current</td>\n",
       "    </tr>\n",
       "    <tr>\n",
       "      <th>3</th>\n",
       "      <td>9/17/2018 6:17:46.634000000 PM</td>\n",
       "      <td>NaN</td>\n",
       "      <td>ACR</td>\n",
       "      <td>1.247450e+01</td>\n",
       "      <td>NaN</td>\n",
       "      <td>PWF: Power Factor</td>\n",
       "    </tr>\n",
       "    <tr>\n",
       "      <th>4</th>\n",
       "      <td>9/17/2018 6:17:46.635000000 PM</td>\n",
       "      <td>NaN</td>\n",
       "      <td>RSSI</td>\n",
       "      <td>2.600000e+01</td>\n",
       "      <td>NaN</td>\n",
       "      <td>NaN</td>\n",
       "    </tr>\n",
       "    <tr>\n",
       "      <th>5</th>\n",
       "      <td>9/17/2018 6:18:16.925000000 PM</td>\n",
       "      <td>NaN</td>\n",
       "      <td>ACR</td>\n",
       "      <td>1.248280e+01</td>\n",
       "      <td>NaN</td>\n",
       "      <td>NaN</td>\n",
       "    </tr>\n",
       "    <tr>\n",
       "      <th>6</th>\n",
       "      <td>9/17/2018 6:18:16.926000000 PM</td>\n",
       "      <td>NaN</td>\n",
       "      <td>FWE</td>\n",
       "      <td>5.911921e+08</td>\n",
       "      <td>NaN</td>\n",
       "      <td>NaN</td>\n",
       "    </tr>\n",
       "    <tr>\n",
       "      <th>7</th>\n",
       "      <td>9/17/2018 6:19:25.925000000 PM</td>\n",
       "      <td>NaN</td>\n",
       "      <td>AVT</td>\n",
       "      <td>4.245302e+02</td>\n",
       "      <td>NaN</td>\n",
       "      <td>NaN</td>\n",
       "    </tr>\n",
       "    <tr>\n",
       "      <th>8</th>\n",
       "      <td>9/17/2018 6:19:25.926000000 PM</td>\n",
       "      <td>NaN</td>\n",
       "      <td>PWF</td>\n",
       "      <td>9.904600e-01</td>\n",
       "      <td>NaN</td>\n",
       "      <td>NaN</td>\n",
       "    </tr>\n",
       "    <tr>\n",
       "      <th>9</th>\n",
       "      <td>9/17/2018 6:19:53.889000000 PM</td>\n",
       "      <td>NaN</td>\n",
       "      <td>APR</td>\n",
       "      <td>8.901428e+03</td>\n",
       "      <td>NaN</td>\n",
       "      <td>NaN</td>\n",
       "    </tr>\n",
       "  </tbody>\n",
       "</table>\n",
       "</div>"
      ],
      "text/plain": [
       "                             date  Unnamed: 1 GHEM_A2.sensor  GHEM_A2.value  \\\n",
       "0  9/17/2018 6:17:00.175000000 PM         NaN            PWF   9.903970e-01   \n",
       "1  9/17/2018 6:17:16.783000000 PM         NaN            AVT   4.244318e+02   \n",
       "2  9/17/2018 6:17:16.784000000 PM         NaN           RSSI   2.500000e+01   \n",
       "3  9/17/2018 6:17:46.634000000 PM         NaN            ACR   1.247450e+01   \n",
       "4  9/17/2018 6:17:46.635000000 PM         NaN           RSSI   2.600000e+01   \n",
       "5  9/17/2018 6:18:16.925000000 PM         NaN            ACR   1.248280e+01   \n",
       "6  9/17/2018 6:18:16.926000000 PM         NaN            FWE   5.911921e+08   \n",
       "7  9/17/2018 6:19:25.925000000 PM         NaN            AVT   4.245302e+02   \n",
       "8  9/17/2018 6:19:25.926000000 PM         NaN            PWF   9.904600e-01   \n",
       "9  9/17/2018 6:19:53.889000000 PM         NaN            APR   8.901428e+03   \n",
       "\n",
       "   Unnamed: 4                         Key  \n",
       "0         NaN           AVT: Line Voltage  \n",
       "1         NaN  FWE: Forward Active Energy  \n",
       "2         NaN        ACR: Average Current  \n",
       "3         NaN           PWF: Power Factor  \n",
       "4         NaN                         NaN  \n",
       "5         NaN                         NaN  \n",
       "6         NaN                         NaN  \n",
       "7         NaN                         NaN  \n",
       "8         NaN                         NaN  \n",
       "9         NaN                         NaN  "
      ]
     },
     "execution_count": 4,
     "metadata": {},
     "output_type": "execute_result"
    }
   ],
   "source": [
    "test.head(10)"
   ]
  },
  {
   "cell_type": "code",
   "execution_count": 5,
   "metadata": {},
   "outputs": [
    {
     "name": "stderr",
     "output_type": "stream",
     "text": [
      "Using TensorFlow backend.\n"
     ]
    }
   ],
   "source": [
    "import tensorflow as tf\n",
    "tf.set_random_seed(42)\n",
    "from keras.models import Sequential, load_model\n",
    "from keras.layers import Dense, Activation\n",
    "from keras.layers import LSTM, Dropout\n",
    "from keras.layers import TimeDistributed\n",
    "from keras.layers.core import Dense, Activation, Dropout, RepeatVector\n",
    "from keras.optimizers import RMSprop\n",
    "import matplotlib.pyplot as plt\n",
    "import pickle\n",
    "import sys\n",
    "import heapq\n",
    "import seaborn as sns\n",
    "from pylab import rcParams\n",
    "\n",
    "%matplotlib inline\n",
    "\n",
    "sns.set(style='whitegrid', palette='muted', font_scale=1.5)\n",
    "\n",
    "rcParams['figure.figsize'] = 12, 5"
   ]
  },
  {
   "cell_type": "code",
   "execution_count": 6,
   "metadata": {},
   "outputs": [
    {
     "data": {
      "text/html": [
       "<div>\n",
       "<style scoped>\n",
       "    .dataframe tbody tr th:only-of-type {\n",
       "        vertical-align: middle;\n",
       "    }\n",
       "\n",
       "    .dataframe tbody tr th {\n",
       "        vertical-align: top;\n",
       "    }\n",
       "\n",
       "    .dataframe thead th {\n",
       "        text-align: right;\n",
       "    }\n",
       "</style>\n",
       "<table border=\"1\" class=\"dataframe\">\n",
       "  <thead>\n",
       "    <tr style=\"text-align: right;\">\n",
       "      <th></th>\n",
       "      <th>GHEM_A1.sensor</th>\n",
       "      <th>GHEM_A1.value</th>\n",
       "    </tr>\n",
       "  </thead>\n",
       "  <tbody>\n",
       "    <tr>\n",
       "      <th>0</th>\n",
       "      <td>AVT</td>\n",
       "      <td>4.201157e+02</td>\n",
       "    </tr>\n",
       "    <tr>\n",
       "      <th>1</th>\n",
       "      <td>RSSI</td>\n",
       "      <td>2.300000e+01</td>\n",
       "    </tr>\n",
       "    <tr>\n",
       "      <th>2</th>\n",
       "      <td>AVT</td>\n",
       "      <td>4.215178e+02</td>\n",
       "    </tr>\n",
       "    <tr>\n",
       "      <th>3</th>\n",
       "      <td>RSSI</td>\n",
       "      <td>2.400000e+01</td>\n",
       "    </tr>\n",
       "    <tr>\n",
       "      <th>4</th>\n",
       "      <td>AVT</td>\n",
       "      <td>4.222725e+02</td>\n",
       "    </tr>\n",
       "    <tr>\n",
       "      <th>5</th>\n",
       "      <td>APR</td>\n",
       "      <td>7.588911e+04</td>\n",
       "    </tr>\n",
       "    <tr>\n",
       "      <th>6</th>\n",
       "      <td>PWF</td>\n",
       "      <td>9.294880e-01</td>\n",
       "    </tr>\n",
       "    <tr>\n",
       "      <th>7</th>\n",
       "      <td>FWE</td>\n",
       "      <td>3.650932e+09</td>\n",
       "    </tr>\n",
       "    <tr>\n",
       "      <th>8</th>\n",
       "      <td>APR</td>\n",
       "      <td>2.596921e+05</td>\n",
       "    </tr>\n",
       "    <tr>\n",
       "      <th>9</th>\n",
       "      <td>FWE</td>\n",
       "      <td>3.650934e+09</td>\n",
       "    </tr>\n",
       "  </tbody>\n",
       "</table>\n",
       "</div>"
      ],
      "text/plain": [
       "  GHEM_A1.sensor  GHEM_A1.value\n",
       "0            AVT   4.201157e+02\n",
       "1           RSSI   2.300000e+01\n",
       "2            AVT   4.215178e+02\n",
       "3           RSSI   2.400000e+01\n",
       "4            AVT   4.222725e+02\n",
       "5            APR   7.588911e+04\n",
       "6            PWF   9.294880e-01\n",
       "7            FWE   3.650932e+09\n",
       "8            APR   2.596921e+05\n",
       "9            FWE   3.650934e+09"
      ]
     },
     "execution_count": 6,
     "metadata": {},
     "output_type": "execute_result"
    }
   ],
   "source": [
    "train_1 = train.drop(columns=[train.columns[x] for x in [0,1,4,5]],axis=1)\n",
    "test_1 = test.drop(columns=[test.columns[x] for x in [0,1,4,5]],axis=1)\n",
    "train_1.head(10)"
   ]
  },
  {
   "cell_type": "code",
   "execution_count": 7,
   "metadata": {},
   "outputs": [
    {
     "data": {
      "text/plain": [
       "[100,\n",
       " 10,\n",
       " ['ACR', 'APR', 'AVT', 'FWE', 'PWF', 'RSSI'],\n",
       " (170288, 100, 6),\n",
       " (170288, 6)]"
      ]
     },
     "execution_count": 7,
     "metadata": {},
     "output_type": "execute_result"
    }
   ],
   "source": [
    "SEQUENCE_LENGTH = 100\n",
    "step = 10\n",
    "labels = sorted(list(set([*train_1['GHEM_A1.sensor'], *test_1['GHEM_A2.sensor']])))\n",
    "X = np.zeros((len(train_1) - SEQUENCE_LENGTH, SEQUENCE_LENGTH, len(labels)), dtype=np.float64)\n",
    "Y = np.zeros((len(train_1) - SEQUENCE_LENGTH, len(labels)), dtype=np.float64)\n",
    "[SEQUENCE_LENGTH, step, labels, X.shape, Y.shape]"
   ]
  },
  {
   "cell_type": "code",
   "execution_count": 8,
   "metadata": {},
   "outputs": [],
   "source": [
    "for i in range(0, len(train_1) - SEQUENCE_LENGTH, step):\n",
    "    for j in range(0, SEQUENCE_LENGTH):\n",
    "        X[i][j][labels.index(train_1['GHEM_A1.sensor'][j])]=train_1['GHEM_A1.value'][j]\n",
    "    Y[i][labels.index(train_1['GHEM_A1.sensor'][i + SEQUENCE_LENGTH])]=train_1['GHEM_A1.value'][i + SEQUENCE_LENGTH]"
   ]
  },
  {
   "cell_type": "code",
   "execution_count": 9,
   "metadata": {},
   "outputs": [
    {
     "data": {
      "text/plain": [
       "(170288, 100, 6)"
      ]
     },
     "execution_count": 9,
     "metadata": {},
     "output_type": "execute_result"
    }
   ],
   "source": [
    "X.shape"
   ]
  },
  {
   "cell_type": "code",
   "execution_count": 10,
   "metadata": {},
   "outputs": [
    {
     "data": {
      "text/plain": [
       "(170288, 6)"
      ]
     },
     "execution_count": 10,
     "metadata": {},
     "output_type": "execute_result"
    }
   ],
   "source": [
    "Y.shape"
   ]
  },
  {
   "cell_type": "code",
   "execution_count": 11,
   "metadata": {},
   "outputs": [
    {
     "name": "stdout",
     "output_type": "stream",
     "text": [
      "WARNING:tensorflow:From /mnt/body/Projects/Competitions/venv/lib/python3.7/site-packages/tensorflow/python/framework/op_def_library.py:263: colocate_with (from tensorflow.python.framework.ops) is deprecated and will be removed in a future version.\n",
      "Instructions for updating:\n",
      "Colocations handled automatically by placer.\n"
     ]
    }
   ],
   "source": [
    "input_shape=(SEQUENCE_LENGTH, len(labels))\n",
    "model = Sequential()\n",
    "model.add(LSTM(256, input_shape=input_shape))\n",
    "model.add(Dense(len(labels)))\n",
    "model.add(Activation('tanh'))"
   ]
  },
  {
   "cell_type": "code",
   "execution_count": null,
   "metadata": {},
   "outputs": [
    {
     "name": "stdout",
     "output_type": "stream",
     "text": [
      "WARNING:tensorflow:From /mnt/body/Projects/Competitions/venv/lib/python3.7/site-packages/tensorflow/python/ops/math_ops.py:3066: to_int32 (from tensorflow.python.ops.math_ops) is deprecated and will be removed in a future version.\n",
      "Instructions for updating:\n",
      "Use tf.cast instead.\n",
      "Train on 161773 samples, validate on 8515 samples\n",
      "Epoch 1/20\n",
      "161773/161773 [==============================] - 660s 4ms/step - loss: nan - acc: 0.9016 - val_loss: nan - val_acc: 0.9001\n",
      "Epoch 2/20\n",
      "161773/161773 [==============================] - 786s 5ms/step - loss: nan - acc: 0.9016 - val_loss: nan - val_acc: 0.9001\n",
      "Epoch 3/20\n",
      "  6656/161773 [>.............................] - ETA: 13:09 - loss: 180295523.9800 - acc: 0.8987"
     ]
    }
   ],
   "source": [
    "from keras.optimizers import RMSprop\n",
    "optimizer = RMSprop(lr=0.01)\n",
    "model.compile(loss='categorical_crossentropy', optimizer=optimizer, metrics=['accuracy'])\n",
    "\n",
    "history = model.fit(X, Y, validation_split=0.05, batch_size=128, epochs=20, shuffle=True).history"
   ]
  },
  {
   "cell_type": "code",
   "execution_count": null,
   "metadata": {},
   "outputs": [],
   "source": [
    "plt.plot(history['acc'])\n",
    "plt.plot(history['val_acc'])\n",
    "plt.title('model accuracy')\n",
    "plt.ylabel('accuracy')\n",
    "plt.xlabel('epoch')\n",
    "plt.legend(['train', 'test'], loc='upper left');"
   ]
  },
  {
   "cell_type": "code",
   "execution_count": null,
   "metadata": {},
   "outputs": [],
   "source": [
    "plt.plot(history['loss'])\n",
    "plt.plot(history['val_loss'])\n",
    "plt.title('model loss')\n",
    "plt.ylabel('loss')\n",
    "plt.xlabel('epoch')\n",
    "plt.legend(['train', 'test'], loc='upper left');"
   ]
  },
  {
   "cell_type": "code",
   "execution_count": null,
   "metadata": {},
   "outputs": [],
   "source": []
  }
 ],
 "metadata": {
  "kernelspec": {
   "display_name": "Python 3",
   "language": "python",
   "name": "python3"
  },
  "language_info": {
   "codemirror_mode": {
    "name": "ipython",
    "version": 3
   },
   "file_extension": ".py",
   "mimetype": "text/x-python",
   "name": "python",
   "nbconvert_exporter": "python",
   "pygments_lexer": "ipython3",
   "version": "3.7.2"
  }
 },
 "nbformat": 4,
 "nbformat_minor": 2
}
